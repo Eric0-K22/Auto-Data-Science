{
  "nbformat": 4,
  "nbformat_minor": 0,
  "metadata": {
    "colab": {
      "name": "Banking in East Africa.ipynb",
      "provenance": [],
      "include_colab_link": true
    },
    "kernelspec": {
      "name": "python3",
      "display_name": "Python 3"
    }
  },
  "cells": [
    {
      "cell_type": "markdown",
      "metadata": {
        "id": "view-in-github",
        "colab_type": "text"
      },
      "source": [
        "<a href=\"https://colab.research.google.com/github/Eric0-K22/Auto-Data-Science/blob/master/Banking_in_East_Africa.ipynb\" target=\"_parent\"><img src=\"https://colab.research.google.com/assets/colab-badge.svg\" alt=\"Open In Colab\"/></a>"
      ]
    },
    {
      "cell_type": "markdown",
      "metadata": {
        "id": "aQm5EnLQrv9B",
        "colab_type": "text"
      },
      "source": [
        "IMPORTING OUR DATAFRAMES"
      ]
    },
    {
      "cell_type": "code",
      "metadata": {
        "id": "dlOl8zZir3gi",
        "colab_type": "code",
        "colab": {}
      },
      "source": [
        "#Importing pandas into our dataset\n",
        "#\n",
        "import pandas as pd"
      ],
      "execution_count": 0,
      "outputs": []
    },
    {
      "cell_type": "code",
      "metadata": {
        "id": "qKlpnGxgsBii",
        "colab_type": "code",
        "colab": {}
      },
      "source": [
        "#Importing numpy into our dataset\n",
        "#\n",
        "import numpy as np"
      ],
      "execution_count": 0,
      "outputs": []
    },
    {
      "cell_type": "markdown",
      "metadata": {
        "id": "q0Dc0ojqsydH",
        "colab_type": "text"
      },
      "source": [
        "READING THE DATASET FROM OUR CSV FILES"
      ]
    },
    {
      "cell_type": "code",
      "metadata": {
        "id": "m_rXtteLtChY",
        "colab_type": "code",
        "outputId": "8b4bce75-0e6c-429a-d279-5a484e0818f1",
        "colab": {
          "base_uri": "https://localhost:8080/",
          "height": 626
        }
      },
      "source": [
        "# Reading the data from the csv file and create the dataframe to be used\n",
        "#\n",
        "df = pd.read_csv('/content/Train_v2.csv')\n",
        "df"
      ],
      "execution_count": 0,
      "outputs": [
        {
          "output_type": "execute_result",
          "data": {
            "text/html": [
              "<div>\n",
              "<style scoped>\n",
              "    .dataframe tbody tr th:only-of-type {\n",
              "        vertical-align: middle;\n",
              "    }\n",
              "\n",
              "    .dataframe tbody tr th {\n",
              "        vertical-align: top;\n",
              "    }\n",
              "\n",
              "    .dataframe thead th {\n",
              "        text-align: right;\n",
              "    }\n",
              "</style>\n",
              "<table border=\"1\" class=\"dataframe\">\n",
              "  <thead>\n",
              "    <tr style=\"text-align: right;\">\n",
              "      <th></th>\n",
              "      <th>country</th>\n",
              "      <th>year</th>\n",
              "      <th>uniqueid</th>\n",
              "      <th>bank_account</th>\n",
              "      <th>location_type</th>\n",
              "      <th>cellphone_access</th>\n",
              "      <th>household_size</th>\n",
              "      <th>age_of_respondent</th>\n",
              "      <th>gender_of_respondent</th>\n",
              "      <th>relationship_with_head</th>\n",
              "      <th>marital_status</th>\n",
              "      <th>education_level</th>\n",
              "      <th>job_type</th>\n",
              "    </tr>\n",
              "  </thead>\n",
              "  <tbody>\n",
              "    <tr>\n",
              "      <th>0</th>\n",
              "      <td>Kenya</td>\n",
              "      <td>2018</td>\n",
              "      <td>uniqueid_1</td>\n",
              "      <td>Yes</td>\n",
              "      <td>Rural</td>\n",
              "      <td>Yes</td>\n",
              "      <td>3</td>\n",
              "      <td>24</td>\n",
              "      <td>Female</td>\n",
              "      <td>Spouse</td>\n",
              "      <td>Married/Living together</td>\n",
              "      <td>Secondary education</td>\n",
              "      <td>Self employed</td>\n",
              "    </tr>\n",
              "    <tr>\n",
              "      <th>1</th>\n",
              "      <td>Kenya</td>\n",
              "      <td>2018</td>\n",
              "      <td>uniqueid_2</td>\n",
              "      <td>No</td>\n",
              "      <td>Rural</td>\n",
              "      <td>No</td>\n",
              "      <td>5</td>\n",
              "      <td>70</td>\n",
              "      <td>Female</td>\n",
              "      <td>Head of Household</td>\n",
              "      <td>Widowed</td>\n",
              "      <td>No formal education</td>\n",
              "      <td>Government Dependent</td>\n",
              "    </tr>\n",
              "    <tr>\n",
              "      <th>2</th>\n",
              "      <td>Kenya</td>\n",
              "      <td>2018</td>\n",
              "      <td>uniqueid_3</td>\n",
              "      <td>Yes</td>\n",
              "      <td>Urban</td>\n",
              "      <td>Yes</td>\n",
              "      <td>5</td>\n",
              "      <td>26</td>\n",
              "      <td>Male</td>\n",
              "      <td>Other relative</td>\n",
              "      <td>Single/Never Married</td>\n",
              "      <td>Vocational/Specialised training</td>\n",
              "      <td>Self employed</td>\n",
              "    </tr>\n",
              "    <tr>\n",
              "      <th>3</th>\n",
              "      <td>Kenya</td>\n",
              "      <td>2018</td>\n",
              "      <td>uniqueid_4</td>\n",
              "      <td>No</td>\n",
              "      <td>Rural</td>\n",
              "      <td>Yes</td>\n",
              "      <td>5</td>\n",
              "      <td>34</td>\n",
              "      <td>Female</td>\n",
              "      <td>Head of Household</td>\n",
              "      <td>Married/Living together</td>\n",
              "      <td>Primary education</td>\n",
              "      <td>Formally employed Private</td>\n",
              "    </tr>\n",
              "    <tr>\n",
              "      <th>4</th>\n",
              "      <td>Kenya</td>\n",
              "      <td>2018</td>\n",
              "      <td>uniqueid_5</td>\n",
              "      <td>No</td>\n",
              "      <td>Urban</td>\n",
              "      <td>No</td>\n",
              "      <td>8</td>\n",
              "      <td>26</td>\n",
              "      <td>Male</td>\n",
              "      <td>Child</td>\n",
              "      <td>Single/Never Married</td>\n",
              "      <td>Primary education</td>\n",
              "      <td>Informally employed</td>\n",
              "    </tr>\n",
              "    <tr>\n",
              "      <th>...</th>\n",
              "      <td>...</td>\n",
              "      <td>...</td>\n",
              "      <td>...</td>\n",
              "      <td>...</td>\n",
              "      <td>...</td>\n",
              "      <td>...</td>\n",
              "      <td>...</td>\n",
              "      <td>...</td>\n",
              "      <td>...</td>\n",
              "      <td>...</td>\n",
              "      <td>...</td>\n",
              "      <td>...</td>\n",
              "      <td>...</td>\n",
              "    </tr>\n",
              "    <tr>\n",
              "      <th>23519</th>\n",
              "      <td>Uganda</td>\n",
              "      <td>2018</td>\n",
              "      <td>uniqueid_2113</td>\n",
              "      <td>No</td>\n",
              "      <td>Rural</td>\n",
              "      <td>Yes</td>\n",
              "      <td>4</td>\n",
              "      <td>48</td>\n",
              "      <td>Female</td>\n",
              "      <td>Head of Household</td>\n",
              "      <td>Divorced/Seperated</td>\n",
              "      <td>No formal education</td>\n",
              "      <td>Other Income</td>\n",
              "    </tr>\n",
              "    <tr>\n",
              "      <th>23520</th>\n",
              "      <td>Uganda</td>\n",
              "      <td>2018</td>\n",
              "      <td>uniqueid_2114</td>\n",
              "      <td>No</td>\n",
              "      <td>Rural</td>\n",
              "      <td>Yes</td>\n",
              "      <td>2</td>\n",
              "      <td>27</td>\n",
              "      <td>Female</td>\n",
              "      <td>Head of Household</td>\n",
              "      <td>Single/Never Married</td>\n",
              "      <td>Secondary education</td>\n",
              "      <td>Other Income</td>\n",
              "    </tr>\n",
              "    <tr>\n",
              "      <th>23521</th>\n",
              "      <td>Uganda</td>\n",
              "      <td>2018</td>\n",
              "      <td>uniqueid_2115</td>\n",
              "      <td>No</td>\n",
              "      <td>Rural</td>\n",
              "      <td>Yes</td>\n",
              "      <td>5</td>\n",
              "      <td>27</td>\n",
              "      <td>Female</td>\n",
              "      <td>Parent</td>\n",
              "      <td>Widowed</td>\n",
              "      <td>Primary education</td>\n",
              "      <td>Other Income</td>\n",
              "    </tr>\n",
              "    <tr>\n",
              "      <th>23522</th>\n",
              "      <td>Uganda</td>\n",
              "      <td>2018</td>\n",
              "      <td>uniqueid_2116</td>\n",
              "      <td>No</td>\n",
              "      <td>Urban</td>\n",
              "      <td>Yes</td>\n",
              "      <td>7</td>\n",
              "      <td>30</td>\n",
              "      <td>Female</td>\n",
              "      <td>Parent</td>\n",
              "      <td>Divorced/Seperated</td>\n",
              "      <td>Secondary education</td>\n",
              "      <td>Self employed</td>\n",
              "    </tr>\n",
              "    <tr>\n",
              "      <th>23523</th>\n",
              "      <td>Uganda</td>\n",
              "      <td>2018</td>\n",
              "      <td>uniqueid_2117</td>\n",
              "      <td>No</td>\n",
              "      <td>Rural</td>\n",
              "      <td>Yes</td>\n",
              "      <td>10</td>\n",
              "      <td>20</td>\n",
              "      <td>Male</td>\n",
              "      <td>Child</td>\n",
              "      <td>Single/Never Married</td>\n",
              "      <td>Secondary education</td>\n",
              "      <td>No Income</td>\n",
              "    </tr>\n",
              "  </tbody>\n",
              "</table>\n",
              "<p>23524 rows × 13 columns</p>\n",
              "</div>"
            ],
            "text/plain": [
              "      country  year  ...                  education_level                   job_type\n",
              "0       Kenya  2018  ...              Secondary education              Self employed\n",
              "1       Kenya  2018  ...              No formal education       Government Dependent\n",
              "2       Kenya  2018  ...  Vocational/Specialised training              Self employed\n",
              "3       Kenya  2018  ...                Primary education  Formally employed Private\n",
              "4       Kenya  2018  ...                Primary education        Informally employed\n",
              "...       ...   ...  ...                              ...                        ...\n",
              "23519  Uganda  2018  ...              No formal education               Other Income\n",
              "23520  Uganda  2018  ...              Secondary education               Other Income\n",
              "23521  Uganda  2018  ...                Primary education               Other Income\n",
              "23522  Uganda  2018  ...              Secondary education              Self employed\n",
              "23523  Uganda  2018  ...              Secondary education                  No Income\n",
              "\n",
              "[23524 rows x 13 columns]"
            ]
          },
          "metadata": {
            "tags": []
          },
          "execution_count": 5
        }
      ]
    },
    {
      "cell_type": "markdown",
      "metadata": {
        "id": "oj4lnOKau_z9",
        "colab_type": "text"
      },
      "source": [
        "CLEANING THE DATASET"
      ]
    },
    {
      "cell_type": "code",
      "metadata": {
        "id": "9pFnJmKRvI9A",
        "colab_type": "code",
        "outputId": "782cabf7-c53e-41d8-85da-815dc5c1bea1",
        "colab": {
          "base_uri": "https://localhost:8080/",
          "height": 626
        }
      },
      "source": [
        "# Dropping the uniqueid column\n",
        "#\n",
        "df.drop(['uniqueid'], axis = 1, inplace=True)\n",
        "df"
      ],
      "execution_count": 0,
      "outputs": [
        {
          "output_type": "execute_result",
          "data": {
            "text/html": [
              "<div>\n",
              "<style scoped>\n",
              "    .dataframe tbody tr th:only-of-type {\n",
              "        vertical-align: middle;\n",
              "    }\n",
              "\n",
              "    .dataframe tbody tr th {\n",
              "        vertical-align: top;\n",
              "    }\n",
              "\n",
              "    .dataframe thead th {\n",
              "        text-align: right;\n",
              "    }\n",
              "</style>\n",
              "<table border=\"1\" class=\"dataframe\">\n",
              "  <thead>\n",
              "    <tr style=\"text-align: right;\">\n",
              "      <th></th>\n",
              "      <th>country</th>\n",
              "      <th>year</th>\n",
              "      <th>bank_account</th>\n",
              "      <th>location_type</th>\n",
              "      <th>cellphone_access</th>\n",
              "      <th>household_size</th>\n",
              "      <th>age_of_respondent</th>\n",
              "      <th>gender_of_respondent</th>\n",
              "      <th>relationship_with_head</th>\n",
              "      <th>marital_status</th>\n",
              "      <th>education_level</th>\n",
              "      <th>job_type</th>\n",
              "    </tr>\n",
              "  </thead>\n",
              "  <tbody>\n",
              "    <tr>\n",
              "      <th>0</th>\n",
              "      <td>Kenya</td>\n",
              "      <td>2018</td>\n",
              "      <td>Yes</td>\n",
              "      <td>Rural</td>\n",
              "      <td>Yes</td>\n",
              "      <td>3</td>\n",
              "      <td>24</td>\n",
              "      <td>Female</td>\n",
              "      <td>Spouse</td>\n",
              "      <td>Married/Living together</td>\n",
              "      <td>Secondary education</td>\n",
              "      <td>Self employed</td>\n",
              "    </tr>\n",
              "    <tr>\n",
              "      <th>1</th>\n",
              "      <td>Kenya</td>\n",
              "      <td>2018</td>\n",
              "      <td>No</td>\n",
              "      <td>Rural</td>\n",
              "      <td>No</td>\n",
              "      <td>5</td>\n",
              "      <td>70</td>\n",
              "      <td>Female</td>\n",
              "      <td>Head of Household</td>\n",
              "      <td>Widowed</td>\n",
              "      <td>No formal education</td>\n",
              "      <td>Government Dependent</td>\n",
              "    </tr>\n",
              "    <tr>\n",
              "      <th>2</th>\n",
              "      <td>Kenya</td>\n",
              "      <td>2018</td>\n",
              "      <td>Yes</td>\n",
              "      <td>Urban</td>\n",
              "      <td>Yes</td>\n",
              "      <td>5</td>\n",
              "      <td>26</td>\n",
              "      <td>Male</td>\n",
              "      <td>Other relative</td>\n",
              "      <td>Single/Never Married</td>\n",
              "      <td>Vocational/Specialised training</td>\n",
              "      <td>Self employed</td>\n",
              "    </tr>\n",
              "    <tr>\n",
              "      <th>3</th>\n",
              "      <td>Kenya</td>\n",
              "      <td>2018</td>\n",
              "      <td>No</td>\n",
              "      <td>Rural</td>\n",
              "      <td>Yes</td>\n",
              "      <td>5</td>\n",
              "      <td>34</td>\n",
              "      <td>Female</td>\n",
              "      <td>Head of Household</td>\n",
              "      <td>Married/Living together</td>\n",
              "      <td>Primary education</td>\n",
              "      <td>Formally employed Private</td>\n",
              "    </tr>\n",
              "    <tr>\n",
              "      <th>4</th>\n",
              "      <td>Kenya</td>\n",
              "      <td>2018</td>\n",
              "      <td>No</td>\n",
              "      <td>Urban</td>\n",
              "      <td>No</td>\n",
              "      <td>8</td>\n",
              "      <td>26</td>\n",
              "      <td>Male</td>\n",
              "      <td>Child</td>\n",
              "      <td>Single/Never Married</td>\n",
              "      <td>Primary education</td>\n",
              "      <td>Informally employed</td>\n",
              "    </tr>\n",
              "    <tr>\n",
              "      <th>...</th>\n",
              "      <td>...</td>\n",
              "      <td>...</td>\n",
              "      <td>...</td>\n",
              "      <td>...</td>\n",
              "      <td>...</td>\n",
              "      <td>...</td>\n",
              "      <td>...</td>\n",
              "      <td>...</td>\n",
              "      <td>...</td>\n",
              "      <td>...</td>\n",
              "      <td>...</td>\n",
              "      <td>...</td>\n",
              "    </tr>\n",
              "    <tr>\n",
              "      <th>23519</th>\n",
              "      <td>Uganda</td>\n",
              "      <td>2018</td>\n",
              "      <td>No</td>\n",
              "      <td>Rural</td>\n",
              "      <td>Yes</td>\n",
              "      <td>4</td>\n",
              "      <td>48</td>\n",
              "      <td>Female</td>\n",
              "      <td>Head of Household</td>\n",
              "      <td>Divorced/Seperated</td>\n",
              "      <td>No formal education</td>\n",
              "      <td>Other Income</td>\n",
              "    </tr>\n",
              "    <tr>\n",
              "      <th>23520</th>\n",
              "      <td>Uganda</td>\n",
              "      <td>2018</td>\n",
              "      <td>No</td>\n",
              "      <td>Rural</td>\n",
              "      <td>Yes</td>\n",
              "      <td>2</td>\n",
              "      <td>27</td>\n",
              "      <td>Female</td>\n",
              "      <td>Head of Household</td>\n",
              "      <td>Single/Never Married</td>\n",
              "      <td>Secondary education</td>\n",
              "      <td>Other Income</td>\n",
              "    </tr>\n",
              "    <tr>\n",
              "      <th>23521</th>\n",
              "      <td>Uganda</td>\n",
              "      <td>2018</td>\n",
              "      <td>No</td>\n",
              "      <td>Rural</td>\n",
              "      <td>Yes</td>\n",
              "      <td>5</td>\n",
              "      <td>27</td>\n",
              "      <td>Female</td>\n",
              "      <td>Parent</td>\n",
              "      <td>Widowed</td>\n",
              "      <td>Primary education</td>\n",
              "      <td>Other Income</td>\n",
              "    </tr>\n",
              "    <tr>\n",
              "      <th>23522</th>\n",
              "      <td>Uganda</td>\n",
              "      <td>2018</td>\n",
              "      <td>No</td>\n",
              "      <td>Urban</td>\n",
              "      <td>Yes</td>\n",
              "      <td>7</td>\n",
              "      <td>30</td>\n",
              "      <td>Female</td>\n",
              "      <td>Parent</td>\n",
              "      <td>Divorced/Seperated</td>\n",
              "      <td>Secondary education</td>\n",
              "      <td>Self employed</td>\n",
              "    </tr>\n",
              "    <tr>\n",
              "      <th>23523</th>\n",
              "      <td>Uganda</td>\n",
              "      <td>2018</td>\n",
              "      <td>No</td>\n",
              "      <td>Rural</td>\n",
              "      <td>Yes</td>\n",
              "      <td>10</td>\n",
              "      <td>20</td>\n",
              "      <td>Male</td>\n",
              "      <td>Child</td>\n",
              "      <td>Single/Never Married</td>\n",
              "      <td>Secondary education</td>\n",
              "      <td>No Income</td>\n",
              "    </tr>\n",
              "  </tbody>\n",
              "</table>\n",
              "<p>23524 rows × 12 columns</p>\n",
              "</div>"
            ],
            "text/plain": [
              "      country  year  ...                  education_level                   job_type\n",
              "0       Kenya  2018  ...              Secondary education              Self employed\n",
              "1       Kenya  2018  ...              No formal education       Government Dependent\n",
              "2       Kenya  2018  ...  Vocational/Specialised training              Self employed\n",
              "3       Kenya  2018  ...                Primary education  Formally employed Private\n",
              "4       Kenya  2018  ...                Primary education        Informally employed\n",
              "...       ...   ...  ...                              ...                        ...\n",
              "23519  Uganda  2018  ...              No formal education               Other Income\n",
              "23520  Uganda  2018  ...              Secondary education               Other Income\n",
              "23521  Uganda  2018  ...                Primary education               Other Income\n",
              "23522  Uganda  2018  ...              Secondary education              Self employed\n",
              "23523  Uganda  2018  ...              Secondary education                  No Income\n",
              "\n",
              "[23524 rows x 12 columns]"
            ]
          },
          "metadata": {
            "tags": []
          },
          "execution_count": 6
        }
      ]
    },
    {
      "cell_type": "code",
      "metadata": {
        "id": "bPPVwZPSwxrD",
        "colab_type": "code",
        "outputId": "d43d2fd0-1bd9-4e72-e52e-7ff676047c87",
        "colab": {
          "base_uri": "https://localhost:8080/",
          "height": 238
        }
      },
      "source": [
        "#Finding the number of null values per column\n",
        "#\n",
        "df.isnull().sum()"
      ],
      "execution_count": 0,
      "outputs": [
        {
          "output_type": "execute_result",
          "data": {
            "text/plain": [
              "country                   0\n",
              "year                      0\n",
              "bank_account              0\n",
              "location_type             0\n",
              "cellphone_access          0\n",
              "household_size            0\n",
              "age_of_respondent         0\n",
              "gender_of_respondent      0\n",
              "relationship_with_head    0\n",
              "marital_status            0\n",
              "education_level           0\n",
              "job_type                  0\n",
              "dtype: int64"
            ]
          },
          "metadata": {
            "tags": []
          },
          "execution_count": 7
        }
      ]
    },
    {
      "cell_type": "code",
      "metadata": {
        "id": "5TF-HIDFjeD0",
        "colab_type": "code",
        "colab": {}
      },
      "source": [
        "# Dropping the relationship with head and marital status column\n",
        "#\n",
        "df.drop(['relationship_with_head','marital_status','job_type','gender_of_respondent'], axis = 1, inplace = True)"
      ],
      "execution_count": 0,
      "outputs": []
    },
    {
      "cell_type": "code",
      "metadata": {
        "id": "DvsRdrUi0XbM",
        "colab_type": "code",
        "outputId": "356f4eaa-e86e-4415-b7c1-da13282c8125",
        "colab": {
          "base_uri": "https://localhost:8080/",
          "height": 456
        }
      },
      "source": [
        "# Displaying the cleaned dataset\n",
        "#\n",
        "df"
      ],
      "execution_count": 0,
      "outputs": [
        {
          "output_type": "execute_result",
          "data": {
            "text/html": [
              "<div>\n",
              "<style scoped>\n",
              "    .dataframe tbody tr th:only-of-type {\n",
              "        vertical-align: middle;\n",
              "    }\n",
              "\n",
              "    .dataframe tbody tr th {\n",
              "        vertical-align: top;\n",
              "    }\n",
              "\n",
              "    .dataframe thead th {\n",
              "        text-align: right;\n",
              "    }\n",
              "</style>\n",
              "<table border=\"1\" class=\"dataframe\">\n",
              "  <thead>\n",
              "    <tr style=\"text-align: right;\">\n",
              "      <th></th>\n",
              "      <th>country</th>\n",
              "      <th>year</th>\n",
              "      <th>bank_account</th>\n",
              "      <th>location_type</th>\n",
              "      <th>cellphone_access</th>\n",
              "      <th>household_size</th>\n",
              "      <th>age_of_respondent</th>\n",
              "      <th>education_level</th>\n",
              "    </tr>\n",
              "  </thead>\n",
              "  <tbody>\n",
              "    <tr>\n",
              "      <th>0</th>\n",
              "      <td>Kenya</td>\n",
              "      <td>2018</td>\n",
              "      <td>Yes</td>\n",
              "      <td>Rural</td>\n",
              "      <td>Yes</td>\n",
              "      <td>3</td>\n",
              "      <td>24</td>\n",
              "      <td>Secondary education</td>\n",
              "    </tr>\n",
              "    <tr>\n",
              "      <th>1</th>\n",
              "      <td>Kenya</td>\n",
              "      <td>2018</td>\n",
              "      <td>No</td>\n",
              "      <td>Rural</td>\n",
              "      <td>No</td>\n",
              "      <td>5</td>\n",
              "      <td>70</td>\n",
              "      <td>No formal education</td>\n",
              "    </tr>\n",
              "    <tr>\n",
              "      <th>2</th>\n",
              "      <td>Kenya</td>\n",
              "      <td>2018</td>\n",
              "      <td>Yes</td>\n",
              "      <td>Urban</td>\n",
              "      <td>Yes</td>\n",
              "      <td>5</td>\n",
              "      <td>26</td>\n",
              "      <td>Vocational/Specialised training</td>\n",
              "    </tr>\n",
              "    <tr>\n",
              "      <th>3</th>\n",
              "      <td>Kenya</td>\n",
              "      <td>2018</td>\n",
              "      <td>No</td>\n",
              "      <td>Rural</td>\n",
              "      <td>Yes</td>\n",
              "      <td>5</td>\n",
              "      <td>34</td>\n",
              "      <td>Primary education</td>\n",
              "    </tr>\n",
              "    <tr>\n",
              "      <th>4</th>\n",
              "      <td>Kenya</td>\n",
              "      <td>2018</td>\n",
              "      <td>No</td>\n",
              "      <td>Urban</td>\n",
              "      <td>No</td>\n",
              "      <td>8</td>\n",
              "      <td>26</td>\n",
              "      <td>Primary education</td>\n",
              "    </tr>\n",
              "    <tr>\n",
              "      <th>...</th>\n",
              "      <td>...</td>\n",
              "      <td>...</td>\n",
              "      <td>...</td>\n",
              "      <td>...</td>\n",
              "      <td>...</td>\n",
              "      <td>...</td>\n",
              "      <td>...</td>\n",
              "      <td>...</td>\n",
              "    </tr>\n",
              "    <tr>\n",
              "      <th>23519</th>\n",
              "      <td>Uganda</td>\n",
              "      <td>2018</td>\n",
              "      <td>No</td>\n",
              "      <td>Rural</td>\n",
              "      <td>Yes</td>\n",
              "      <td>4</td>\n",
              "      <td>48</td>\n",
              "      <td>No formal education</td>\n",
              "    </tr>\n",
              "    <tr>\n",
              "      <th>23520</th>\n",
              "      <td>Uganda</td>\n",
              "      <td>2018</td>\n",
              "      <td>No</td>\n",
              "      <td>Rural</td>\n",
              "      <td>Yes</td>\n",
              "      <td>2</td>\n",
              "      <td>27</td>\n",
              "      <td>Secondary education</td>\n",
              "    </tr>\n",
              "    <tr>\n",
              "      <th>23521</th>\n",
              "      <td>Uganda</td>\n",
              "      <td>2018</td>\n",
              "      <td>No</td>\n",
              "      <td>Rural</td>\n",
              "      <td>Yes</td>\n",
              "      <td>5</td>\n",
              "      <td>27</td>\n",
              "      <td>Primary education</td>\n",
              "    </tr>\n",
              "    <tr>\n",
              "      <th>23522</th>\n",
              "      <td>Uganda</td>\n",
              "      <td>2018</td>\n",
              "      <td>No</td>\n",
              "      <td>Urban</td>\n",
              "      <td>Yes</td>\n",
              "      <td>7</td>\n",
              "      <td>30</td>\n",
              "      <td>Secondary education</td>\n",
              "    </tr>\n",
              "    <tr>\n",
              "      <th>23523</th>\n",
              "      <td>Uganda</td>\n",
              "      <td>2018</td>\n",
              "      <td>No</td>\n",
              "      <td>Rural</td>\n",
              "      <td>Yes</td>\n",
              "      <td>10</td>\n",
              "      <td>20</td>\n",
              "      <td>Secondary education</td>\n",
              "    </tr>\n",
              "  </tbody>\n",
              "</table>\n",
              "<p>23524 rows × 8 columns</p>\n",
              "</div>"
            ],
            "text/plain": [
              "      country  year  ... age_of_respondent                  education_level\n",
              "0       Kenya  2018  ...                24              Secondary education\n",
              "1       Kenya  2018  ...                70              No formal education\n",
              "2       Kenya  2018  ...                26  Vocational/Specialised training\n",
              "3       Kenya  2018  ...                34                Primary education\n",
              "4       Kenya  2018  ...                26                Primary education\n",
              "...       ...   ...  ...               ...                              ...\n",
              "23519  Uganda  2018  ...                48              No formal education\n",
              "23520  Uganda  2018  ...                27              Secondary education\n",
              "23521  Uganda  2018  ...                27                Primary education\n",
              "23522  Uganda  2018  ...                30              Secondary education\n",
              "23523  Uganda  2018  ...                20              Secondary education\n",
              "\n",
              "[23524 rows x 8 columns]"
            ]
          },
          "metadata": {
            "tags": []
          },
          "execution_count": 9
        }
      ]
    },
    {
      "cell_type": "markdown",
      "metadata": {
        "id": "2OPyZI_sz_hU",
        "colab_type": "text"
      },
      "source": [
        "DATA ANALYSIS"
      ]
    },
    {
      "cell_type": "code",
      "metadata": {
        "id": "VE7U_8fJtZJV",
        "colab_type": "code",
        "outputId": "c7ac2d34-82c4-4f0c-a9ab-330a9e0a0f24",
        "colab": {
          "base_uri": "https://localhost:8080/",
          "height": 34
        }
      },
      "source": [
        "# Finding the countries in the dataset\n",
        "#\n",
        "df['country'].unique()"
      ],
      "execution_count": 0,
      "outputs": [
        {
          "output_type": "execute_result",
          "data": {
            "text/plain": [
              "array(['Kenya', 'Rwanda', 'Tanzania', 'Uganda'], dtype=object)"
            ]
          },
          "metadata": {
            "tags": []
          },
          "execution_count": 10
        }
      ]
    },
    {
      "cell_type": "code",
      "metadata": {
        "id": "7cgKyMLAtsVQ",
        "colab_type": "code",
        "outputId": "be85b7c1-7332-40d9-c86f-4544de1edaae",
        "colab": {
          "base_uri": "https://localhost:8080/",
          "height": 323
        }
      },
      "source": [
        "# The amount of people with or without bank accounts living in either rural or urban areas and have a bank account in East africa\n",
        "#\n",
        "df.groupby(['country','bank_account','location_type'])['bank_account'].count()"
      ],
      "execution_count": 0,
      "outputs": [
        {
          "output_type": "execute_result",
          "data": {
            "text/plain": [
              "country   bank_account  location_type\n",
              "Kenya     No            Rural            2929\n",
              "                        Urban            1618\n",
              "          Yes           Rural             614\n",
              "                        Urban             907\n",
              "Rwanda    No            Rural            6865\n",
              "                        Urban             867\n",
              "          Yes           Rural             618\n",
              "                        Urban             385\n",
              "Tanzania  No            Rural            1434\n",
              "                        Urban            4579\n",
              "          Yes           Rural             375\n",
              "                        Urban             232\n",
              "Uganda    No            Rural            1444\n",
              "                        Urban             476\n",
              "          Yes           Rural              64\n",
              "                        Urban             117\n",
              "Name: bank_account, dtype: int64"
            ]
          },
          "metadata": {
            "tags": []
          },
          "execution_count": 11
        }
      ]
    },
    {
      "cell_type": "code",
      "metadata": {
        "id": "LrzCVycQlKWx",
        "colab_type": "code",
        "outputId": "a6ff4946-08ee-4ed7-8f91-48f34dd0a855",
        "colab": {
          "base_uri": "https://localhost:8080/",
          "height": 595
        }
      },
      "source": [
        "# The amount of people living in either rural or urban areas with or without a cell phone and have or dont a have bank account in East africa\n",
        "#\n",
        "df.groupby(['country','bank_account','location_type','cellphone_access'])['bank_account'].count()"
      ],
      "execution_count": 0,
      "outputs": [
        {
          "output_type": "execute_result",
          "data": {
            "text/plain": [
              "country   bank_account  location_type  cellphone_access\n",
              "Kenya     No            Rural          No                   904\n",
              "                                       Yes                 2025\n",
              "                        Urban          No                   317\n",
              "                                       Yes                 1301\n",
              "          Yes           Rural          No                    45\n",
              "                                       Yes                  569\n",
              "                        Urban          No                    17\n",
              "                                       Yes                  890\n",
              "Rwanda    No            Rural          No                  1394\n",
              "                                       Yes                 5471\n",
              "                        Urban          No                    73\n",
              "                                       Yes                  794\n",
              "          Yes           Rural          No                    16\n",
              "                                       Yes                  602\n",
              "                        Urban          No                     3\n",
              "                                       Yes                  382\n",
              "Tanzania  No            Rural          No                   367\n",
              "                                       Yes                 1067\n",
              "                        Urban          No                  2284\n",
              "                                       Yes                 2295\n",
              "          Yes           Rural          No                     5\n",
              "                                       Yes                  370\n",
              "                        Urban          No                     8\n",
              "                                       Yes                  224\n",
              "Uganda    No            Rural          No                   537\n",
              "                                       Yes                  907\n",
              "                        Urban          No                    90\n",
              "                                       Yes                  386\n",
              "          Yes           Rural          No                     5\n",
              "                                       Yes                   59\n",
              "                        Urban          No                     5\n",
              "                                       Yes                  112\n",
              "Name: bank_account, dtype: int64"
            ]
          },
          "metadata": {
            "tags": []
          },
          "execution_count": 12
        }
      ]
    },
    {
      "cell_type": "code",
      "metadata": {
        "id": "SqOzWDf_mgfy",
        "colab_type": "code",
        "outputId": "bd43d8af-1842-4cbb-ad41-a7d1dcda7435",
        "colab": {
          "base_uri": "https://localhost:8080/",
          "height": 442
        }
      },
      "source": [
        "# The education levels of people living in rural or urban areas with or without a cell phone that have or dont have a bank account in kenya\n",
        "8U#\n",
        "df_kenya = df[df['country'] == 'Kenya']\n",
        "df_kenya.groupby(['country','bank_account','education_level','cellphone_access',])['bank_account'].count()\n"
      ],
      "execution_count": 0,
      "outputs": [
        {
          "output_type": "execute_result",
          "data": {
            "text/plain": [
              "country  bank_account  education_level                  cellphone_access\n",
              "Kenya    No            No formal education              No                   371\n",
              "                                                        Yes                  489\n",
              "                       Other/Dont know/RTA              No                     1\n",
              "                                                        Yes                    1\n",
              "                       Primary education                No                   566\n",
              "                                                        Yes                 1631\n",
              "                       Secondary education              No                   277\n",
              "                                                        Yes                  960\n",
              "                       Tertiary education               No                     2\n",
              "                                                        Yes                   72\n",
              "                       Vocational/Specialised training  No                     4\n",
              "                                                        Yes                  173\n",
              "         Yes           No formal education              No                    31\n",
              "                                                        Yes                   50\n",
              "                       Other/Dont know/RTA              Yes                    6\n",
              "                       Primary education                No                    14\n",
              "                                                        Yes                  389\n",
              "                       Secondary education              No                    13\n",
              "                                                        Yes                  535\n",
              "                       Tertiary education               No                     1\n",
              "                                                        Yes                  217\n",
              "                       Vocational/Specialised training  No                     3\n",
              "                                                        Yes                  262\n",
              "Name: bank_account, dtype: int64"
            ]
          },
          "metadata": {
            "tags": []
          },
          "execution_count": 13
        }
      ]
    },
    {
      "cell_type": "code",
      "metadata": {
        "id": "cHTr0tm5u_vj",
        "colab_type": "code",
        "outputId": "2d0d26e7-43ca-496e-a06a-c70d5be676fe",
        "colab": {
          "base_uri": "https://localhost:8080/",
          "height": 697
        }
      },
      "source": [
        "# The education levels of people living in rural or urban areas with or without a cell phone that have or dont have a bank account in Rwanda\n",
        "#\n",
        "df_Rwanda = df[(df['country'] == 'Rwanda')]\n",
        "df_Rwanda.groupby(['country','bank_account','location_type','cellphone_access','education_level'])['bank_account'].count()"
      ],
      "execution_count": 0,
      "outputs": [
        {
          "output_type": "execute_result",
          "data": {
            "text/plain": [
              "country  bank_account  location_type  cellphone_access  education_level                \n",
              "Rwanda   No            Rural          No                No formal education                 617\n",
              "                                                        Other/Dont know/RTA                   8\n",
              "                                                        Primary education                   685\n",
              "                                                        Secondary education                  78\n",
              "                                                        Vocational/Specialised training       6\n",
              "                                      Yes               No formal education                1300\n",
              "                                                        Other/Dont know/RTA                   3\n",
              "                                                        Primary education                  3305\n",
              "                                                        Secondary education                 795\n",
              "                                                        Tertiary education                   17\n",
              "                                                        Vocational/Specialised training      51\n",
              "                       Urban          No                No formal education                  33\n",
              "                                                        Other/Dont know/RTA                   1\n",
              "                                                        Primary education                    35\n",
              "                                                        Secondary education                   4\n",
              "                                      Yes               No formal education                  96\n",
              "                                                        Other/Dont know/RTA                   2\n",
              "                                                        Primary education                   377\n",
              "                                                        Secondary education                 282\n",
              "                                                        Tertiary education                   24\n",
              "                                                        Vocational/Specialised training      13\n",
              "         Yes           Rural          No                No formal education                   5\n",
              "                                                        Primary education                    10\n",
              "                                                        Secondary education                   1\n",
              "                                      Yes               No formal education                  56\n",
              "                                                        Other/Dont know/RTA                   1\n",
              "                                                        Primary education                   308\n",
              "                                                        Secondary education                 185\n",
              "                                                        Tertiary education                   39\n",
              "                                                        Vocational/Specialised training      13\n",
              "                       Urban          No                No formal education                   1\n",
              "                                                        Secondary education                   2\n",
              "                                      Yes               No formal education                  14\n",
              "                                                        Other/Dont know/RTA                   3\n",
              "                                                        Primary education                   116\n",
              "                                                        Secondary education                 144\n",
              "                                                        Tertiary education                   97\n",
              "                                                        Vocational/Specialised training       8\n",
              "Name: bank_account, dtype: int64"
            ]
          },
          "metadata": {
            "tags": []
          },
          "execution_count": 19
        }
      ]
    },
    {
      "cell_type": "code",
      "metadata": {
        "id": "09cAiwQ_vWnF",
        "colab_type": "code",
        "outputId": "55cc8ff5-5f41-48ba-c4e0-3215a4d1d1e4",
        "colab": {
          "base_uri": "https://localhost:8080/",
          "height": 697
        }
      },
      "source": [
        "# The education levels of people living in rural or urban areas with or without a cell phone that have or dont have a bank account Tanzania\n",
        "#\n",
        "df_Tanzania = df[(df['country'] == 'Tanzania')]\n",
        "df_Tanzania.groupby(['country','bank_account','location_type','cellphone_access','education_level'])['bank_account'].count()"
      ],
      "execution_count": 0,
      "outputs": [
        {
          "output_type": "execute_result",
          "data": {
            "text/plain": [
              "country   bank_account  location_type  cellphone_access  education_level                \n",
              "Tanzania  No            Rural          No                No formal education                  66\n",
              "                                                         Primary education                   226\n",
              "                                                         Secondary education                  55\n",
              "                                                         Tertiary education                   19\n",
              "                                                         Vocational/Specialised training       1\n",
              "                                       Yes               No formal education                  87\n",
              "                                                         Primary education                   653\n",
              "                                                         Secondary education                  94\n",
              "                                                         Tertiary education                  200\n",
              "                                                         Vocational/Specialised training      33\n",
              "                        Urban          No                No formal education                 691\n",
              "                                                         Other/Dont know/RTA                   1\n",
              "                                                         Primary education                  1434\n",
              "                                                         Secondary education                 106\n",
              "                                                         Tertiary education                   50\n",
              "                                                         Vocational/Specialised training       2\n",
              "                                       Yes               No formal education                 274\n",
              "                                                         Other/Dont know/RTA                   1\n",
              "                                                         Primary education                  1693\n",
              "                                                         Secondary education                 142\n",
              "                                                         Tertiary education                  175\n",
              "                                                         Vocational/Specialised training      10\n",
              "          Yes           Rural          No                Primary education                     2\n",
              "                                                         Tertiary education                    2\n",
              "                                                         Vocational/Specialised training       1\n",
              "                                       Yes               No formal education                   3\n",
              "                                                         Other/Dont know/RTA                   1\n",
              "                                                         Primary education                   124\n",
              "                                                         Secondary education                  21\n",
              "                                                         Tertiary education                  137\n",
              "                                                         Vocational/Specialised training      84\n",
              "                        Urban          No                Primary education                     6\n",
              "                                                         Tertiary education                    2\n",
              "                                       Yes               No formal education                  12\n",
              "                                                         Primary education                    86\n",
              "                                                         Secondary education                  15\n",
              "                                                         Tertiary education                   71\n",
              "                                                         Vocational/Specialised training      40\n",
              "Name: bank_account, dtype: int64"
            ]
          },
          "metadata": {
            "tags": []
          },
          "execution_count": 21
        }
      ]
    },
    {
      "cell_type": "code",
      "metadata": {
        "id": "TiUf5V3hvW1q",
        "colab_type": "code",
        "outputId": "9ae3fbd7-e5d6-4f63-c015-e75b0ed931d9",
        "colab": {
          "base_uri": "https://localhost:8080/",
          "height": 663
        }
      },
      "source": [
        "# The education levels of people living in rural or urban areas with or without a cell phone that have or do not have a bank account Uganda\n",
        "#\n",
        "df_Uganda = df[(df['country'] == 'Uganda')]\n",
        "df_Uganda.groupby(['country','bank_account','location_type','cellphone_access','education_level'])['bank_account'].count()"
      ],
      "execution_count": 0,
      "outputs": [
        {
          "output_type": "execute_result",
          "data": {
            "text/plain": [
              "country  bank_account  location_type  cellphone_access  education_level                \n",
              "Uganda   No            Rural          No                No formal education                164\n",
              "                                                        Other/Dont know/RTA                  1\n",
              "                                                        Primary education                  319\n",
              "                                                        Secondary education                 51\n",
              "                                                        Vocational/Specialised training      2\n",
              "                                      Yes               No formal education                109\n",
              "                                                        Other/Dont know/RTA                  2\n",
              "                                                        Primary education                  562\n",
              "                                                        Secondary education                210\n",
              "                                                        Vocational/Specialised training     24\n",
              "                       Urban          No                No formal education                 14\n",
              "                                                        Primary education                   51\n",
              "                                                        Secondary education                 23\n",
              "                                                        Vocational/Specialised training      2\n",
              "                                      Yes               No formal education                 28\n",
              "                                                        Other/Dont know/RTA                  3\n",
              "                                                        Primary education                  161\n",
              "                                                        Secondary education                163\n",
              "                                                        Tertiary education                   7\n",
              "                                                        Vocational/Specialised training     24\n",
              "         Yes           Rural          No                No formal education                  1\n",
              "                                                        Primary education                    2\n",
              "                                                        Secondary education                  2\n",
              "                                      Yes               No formal education                  1\n",
              "                                                        Primary education                   21\n",
              "                                                        Secondary education                 18\n",
              "                                                        Tertiary education                   2\n",
              "                                                        Vocational/Specialised training     17\n",
              "                       Urban          No                No formal education                  1\n",
              "                                                        Secondary education                  3\n",
              "                                                        Vocational/Specialised training      1\n",
              "                                      Yes               No formal education                  1\n",
              "                                                        Primary education                   15\n",
              "                                                        Secondary education                 44\n",
              "                                                        Tertiary education                  23\n",
              "                                                        Vocational/Specialised training     29\n",
              "Name: bank_account, dtype: int64"
            ]
          },
          "metadata": {
            "tags": []
          },
          "execution_count": 23
        }
      ]
    },
    {
      "cell_type": "code",
      "metadata": {
        "id": "6aYGUvQI9J75",
        "colab_type": "code",
        "outputId": "2662c7c6-79f6-49dd-c125-601e88cee484",
        "colab": {
          "base_uri": "https://localhost:8080/",
          "height": 714
        }
      },
      "source": [
        "df_youth = df[(df['age_of_respondent']<= 35)&(df['country'] == 'Kenya')& (df['location_type'] == 'Rural')& (df['cellphone_access']=='Yes')]\n",
        "df_youth\n",
        "df_youth.groupby(['country','bank_account','age_of_respondent','location_type','cellphone_access'])['bank_account'].count()"
      ],
      "execution_count": 0,
      "outputs": [
        {
          "output_type": "execute_result",
          "data": {
            "text/plain": [
              "country  bank_account  age_of_respondent  location_type  cellphone_access\n",
              "Kenya    No            16                 Rural          Yes                  11\n",
              "                       17                 Rural          Yes                  22\n",
              "                       18                 Rural          Yes                  43\n",
              "                       19                 Rural          Yes                  29\n",
              "                       20                 Rural          Yes                  46\n",
              "                       21                 Rural          Yes                  37\n",
              "                       22                 Rural          Yes                  47\n",
              "                       23                 Rural          Yes                  37\n",
              "                       24                 Rural          Yes                  34\n",
              "                       25                 Rural          Yes                  52\n",
              "                       26                 Rural          Yes                  61\n",
              "                       27                 Rural          Yes                  33\n",
              "                       28                 Rural          Yes                  73\n",
              "                       29                 Rural          Yes                  39\n",
              "                       30                 Rural          Yes                 103\n",
              "                       31                 Rural          Yes                  38\n",
              "                       32                 Rural          Yes                  56\n",
              "                       33                 Rural          Yes                  38\n",
              "                       34                 Rural          Yes                  40\n",
              "                       35                 Rural          Yes                  79\n",
              "         Yes           17                 Rural          Yes                   1\n",
              "                       18                 Rural          Yes                   2\n",
              "                       19                 Rural          Yes                   5\n",
              "                       20                 Rural          Yes                   4\n",
              "                       21                 Rural          Yes                   6\n",
              "                       22                 Rural          Yes                   4\n",
              "                       23                 Rural          Yes                  11\n",
              "                       24                 Rural          Yes                  10\n",
              "                       25                 Rural          Yes                  12\n",
              "                       26                 Rural          Yes                  14\n",
              "                       27                 Rural          Yes                   7\n",
              "                       28                 Rural          Yes                  21\n",
              "                       29                 Rural          Yes                   3\n",
              "                       30                 Rural          Yes                  26\n",
              "                       31                 Rural          Yes                   5\n",
              "                       32                 Rural          Yes                  17\n",
              "                       33                 Rural          Yes                   8\n",
              "                       34                 Rural          Yes                  11\n",
              "                       35                 Rural          Yes                  30\n",
              "Name: bank_account, dtype: int64"
            ]
          },
          "metadata": {
            "tags": []
          },
          "execution_count": 24
        }
      ]
    },
    {
      "cell_type": "code",
      "metadata": {
        "id": "pQwNretlFVev",
        "colab_type": "code",
        "outputId": "b590c8c7-906b-4331-8585-e7c27af8a2c8",
        "colab": {
          "base_uri": "https://localhost:8080/",
          "height": 459
        }
      },
      "source": [
        "df_youth = df[(df['age_of_respondent']<= 35)&(df['country'] == 'Kenya')& (df['location_type'] == 'Rural')& (df['cellphone_access']=='No')]\n",
        "df_youth\n",
        "df_youth.groupby(['country','bank_account','age_of_respondent','location_type','cellphone_access'])['bank_account'].count()"
      ],
      "execution_count": 0,
      "outputs": [
        {
          "output_type": "execute_result",
          "data": {
            "text/plain": [
              "country  bank_account  age_of_respondent  location_type  cellphone_access\n",
              "Kenya    No            16                 Rural          No                  64\n",
              "                       17                 Rural          No                  73\n",
              "                       18                 Rural          No                  55\n",
              "                       19                 Rural          No                  17\n",
              "                       20                 Rural          No                  37\n",
              "                       21                 Rural          No                   5\n",
              "                       22                 Rural          No                  15\n",
              "                       23                 Rural          No                  12\n",
              "                       24                 Rural          No                  12\n",
              "                       25                 Rural          No                  26\n",
              "                       26                 Rural          No                  21\n",
              "                       27                 Rural          No                   9\n",
              "                       28                 Rural          No                  19\n",
              "                       29                 Rural          No                  10\n",
              "                       30                 Rural          No                  29\n",
              "                       31                 Rural          No                  11\n",
              "                       32                 Rural          No                  16\n",
              "                       33                 Rural          No                   8\n",
              "                       34                 Rural          No                   9\n",
              "                       35                 Rural          No                  21\n",
              "         Yes           20                 Rural          No                   1\n",
              "                       21                 Rural          No                   1\n",
              "                       27                 Rural          No                   1\n",
              "                       31                 Rural          No                   1\n",
              "Name: bank_account, dtype: int64"
            ]
          },
          "metadata": {
            "tags": []
          },
          "execution_count": 25
        }
      ]
    },
    {
      "cell_type": "code",
      "metadata": {
        "id": "nPbmba62FPFp",
        "colab_type": "code",
        "outputId": "4b2da93f-c196-4c5f-bfc8-8aac19f6688c",
        "colab": {
          "base_uri": "https://localhost:8080/",
          "height": 714
        }
      },
      "source": [
        "df_youth = df[(df['age_of_respondent']<= 35)&(df['country'] == 'Kenya')& (df['location_type'] == 'Urban')& (df['cellphone_access']=='Yes')]\n",
        "df_youth\n",
        "df_youth.groupby(['country','bank_account','age_of_respondent','location_type','cellphone_access'])['bank_account'].count()"
      ],
      "execution_count": 0,
      "outputs": [
        {
          "output_type": "execute_result",
          "data": {
            "text/plain": [
              "country  bank_account  age_of_respondent  location_type  cellphone_access\n",
              "Kenya    No            16                 Urban          Yes                 10\n",
              "                       17                 Urban          Yes                 20\n",
              "                       18                 Urban          Yes                 24\n",
              "                       19                 Urban          Yes                 24\n",
              "                       20                 Urban          Yes                 41\n",
              "                       21                 Urban          Yes                 41\n",
              "                       22                 Urban          Yes                 52\n",
              "                       23                 Urban          Yes                 45\n",
              "                       24                 Urban          Yes                 40\n",
              "                       25                 Urban          Yes                 64\n",
              "                       26                 Urban          Yes                 54\n",
              "                       27                 Urban          Yes                 31\n",
              "                       28                 Urban          Yes                 56\n",
              "                       29                 Urban          Yes                 36\n",
              "                       30                 Urban          Yes                 74\n",
              "                       31                 Urban          Yes                 19\n",
              "                       32                 Urban          Yes                 42\n",
              "                       33                 Urban          Yes                 21\n",
              "                       34                 Urban          Yes                 34\n",
              "                       35                 Urban          Yes                 46\n",
              "         Yes           17                 Urban          Yes                  4\n",
              "                       18                 Urban          Yes                  4\n",
              "                       19                 Urban          Yes                  8\n",
              "                       20                 Urban          Yes                 14\n",
              "                       21                 Urban          Yes                 14\n",
              "                       22                 Urban          Yes                 24\n",
              "                       23                 Urban          Yes                 32\n",
              "                       24                 Urban          Yes                 34\n",
              "                       25                 Urban          Yes                 32\n",
              "                       26                 Urban          Yes                 36\n",
              "                       27                 Urban          Yes                 14\n",
              "                       28                 Urban          Yes                 46\n",
              "                       29                 Urban          Yes                 24\n",
              "                       30                 Urban          Yes                 51\n",
              "                       31                 Urban          Yes                 21\n",
              "                       32                 Urban          Yes                 46\n",
              "                       33                 Urban          Yes                 17\n",
              "                       34                 Urban          Yes                 27\n",
              "                       35                 Urban          Yes                 27\n",
              "Name: bank_account, dtype: int64"
            ]
          },
          "metadata": {
            "tags": []
          },
          "execution_count": 26
        }
      ]
    },
    {
      "cell_type": "code",
      "metadata": {
        "id": "yhUzJ15NFW8I",
        "colab_type": "code",
        "outputId": "03a176fb-0d93-4e69-b74b-9d873cb2a392",
        "colab": {
          "base_uri": "https://localhost:8080/",
          "height": 476
        }
      },
      "source": [
        "df_youth = df[(df['age_of_respondent']<= 35)&(df['country'] == 'Kenya')& (df['location_type'] == 'Urban')& (df['cellphone_access']=='No')]\n",
        "df_youth\n",
        "df_youth.groupby(['country','bank_account','age_of_respondent','location_type','cellphone_access'])['bank_account'].count()"
      ],
      "execution_count": 0,
      "outputs": [
        {
          "output_type": "execute_result",
          "data": {
            "text/plain": [
              "country  bank_account  age_of_respondent  location_type  cellphone_access\n",
              "Kenya    No            16                 Urban          No                  40\n",
              "                       17                 Urban          No                  30\n",
              "                       18                 Urban          No                  25\n",
              "                       19                 Urban          No                  12\n",
              "                       20                 Urban          No                   9\n",
              "                       21                 Urban          No                  10\n",
              "                       22                 Urban          No                   7\n",
              "                       23                 Urban          No                   4\n",
              "                       24                 Urban          No                   6\n",
              "                       25                 Urban          No                   5\n",
              "                       26                 Urban          No                   9\n",
              "                       27                 Urban          No                   4\n",
              "                       28                 Urban          No                   4\n",
              "                       29                 Urban          No                   4\n",
              "                       30                 Urban          No                  14\n",
              "                       31                 Urban          No                   4\n",
              "                       32                 Urban          No                   2\n",
              "                       33                 Urban          No                   3\n",
              "                       34                 Urban          No                   3\n",
              "                       35                 Urban          No                   4\n",
              "         Yes           16                 Urban          No                   2\n",
              "                       18                 Urban          No                   3\n",
              "                       25                 Urban          No                   1\n",
              "                       26                 Urban          No                   1\n",
              "                       29                 Urban          No                   2\n",
              "Name: bank_account, dtype: int64"
            ]
          },
          "metadata": {
            "tags": []
          },
          "execution_count": 27
        }
      ]
    },
    {
      "cell_type": "code",
      "metadata": {
        "id": "nAxPUvAgBvbr",
        "colab_type": "code",
        "outputId": "191f9dbf-2751-4fb1-bfac-48224aa07c02",
        "colab": {
          "base_uri": "https://localhost:8080/",
          "height": 731
        }
      },
      "source": [
        "df_youth = df[(df['age_of_respondent']<= 35)&(df['country'] == 'Rwanda')&(df['location_type'] == 'Rural')& (df['cellphone_access']=='Yes')]\n",
        "df_youth\n",
        "df_youth.groupby(['country','bank_account','age_of_respondent','location_type','cellphone_access'])['bank_account'].count()"
      ],
      "execution_count": 0,
      "outputs": [
        {
          "output_type": "execute_result",
          "data": {
            "text/plain": [
              "country  bank_account  age_of_respondent  location_type  cellphone_access\n",
              "Rwanda   No            16                 Rural          Yes                 115\n",
              "                       17                 Rural          Yes                 100\n",
              "                       18                 Rural          Yes                 132\n",
              "                       19                 Rural          Yes                 113\n",
              "                       20                 Rural          Yes                 143\n",
              "                       21                 Rural          Yes                 105\n",
              "                       22                 Rural          Yes                  96\n",
              "                       23                 Rural          Yes                 133\n",
              "                       24                 Rural          Yes                 129\n",
              "                       25                 Rural          Yes                 168\n",
              "                       26                 Rural          Yes                 121\n",
              "                       27                 Rural          Yes                 164\n",
              "                       28                 Rural          Yes                 158\n",
              "                       29                 Rural          Yes                 129\n",
              "                       30                 Rural          Yes                 227\n",
              "                       31                 Rural          Yes                 148\n",
              "                       32                 Rural          Yes                 167\n",
              "                       33                 Rural          Yes                 158\n",
              "                       34                 Rural          Yes                 151\n",
              "                       35                 Rural          Yes                 210\n",
              "         Yes           16                 Rural          Yes                   2\n",
              "                       17                 Rural          Yes                   1\n",
              "                       18                 Rural          Yes                   3\n",
              "                       19                 Rural          Yes                   7\n",
              "                       20                 Rural          Yes                   2\n",
              "                       21                 Rural          Yes                   4\n",
              "                       22                 Rural          Yes                   8\n",
              "                       23                 Rural          Yes                  11\n",
              "                       24                 Rural          Yes                  10\n",
              "                       25                 Rural          Yes                  22\n",
              "                       26                 Rural          Yes                  16\n",
              "                       27                 Rural          Yes                  17\n",
              "                       28                 Rural          Yes                  17\n",
              "                       29                 Rural          Yes                  16\n",
              "                       30                 Rural          Yes                  24\n",
              "                       31                 Rural          Yes                  26\n",
              "                       32                 Rural          Yes                  22\n",
              "                       33                 Rural          Yes                  28\n",
              "                       34                 Rural          Yes                  12\n",
              "                       35                 Rural          Yes                  26\n",
              "Name: bank_account, dtype: int64"
            ]
          },
          "metadata": {
            "tags": []
          },
          "execution_count": 28
        }
      ]
    },
    {
      "cell_type": "code",
      "metadata": {
        "id": "Chfq2EvaFyKX",
        "colab_type": "code",
        "outputId": "29d33288-2555-4e56-d818-d02b606b8789",
        "colab": {
          "base_uri": "https://localhost:8080/",
          "height": 493
        }
      },
      "source": [
        "df_youth = df[(df['age_of_respondent']<= 35)&(df['country'] == 'Rwanda')& (df['location_type'] == 'Rural')& (df['cellphone_access']=='No')]\n",
        "df_youth\n",
        "df_youth.groupby(['country','bank_account','age_of_respondent','location_type','cellphone_access'])['bank_account'].count()"
      ],
      "execution_count": 0,
      "outputs": [
        {
          "output_type": "execute_result",
          "data": {
            "text/plain": [
              "country  bank_account  age_of_respondent  location_type  cellphone_access\n",
              "Rwanda   No            16                 Rural          No                  24\n",
              "                       17                 Rural          No                  31\n",
              "                       18                 Rural          No                  17\n",
              "                       19                 Rural          No                  14\n",
              "                       20                 Rural          No                  21\n",
              "                       21                 Rural          No                  25\n",
              "                       22                 Rural          No                  10\n",
              "                       23                 Rural          No                  22\n",
              "                       24                 Rural          No                  16\n",
              "                       25                 Rural          No                  26\n",
              "                       26                 Rural          No                  18\n",
              "                       27                 Rural          No                  22\n",
              "                       28                 Rural          No                  30\n",
              "                       29                 Rural          No                  22\n",
              "                       30                 Rural          No                  46\n",
              "                       31                 Rural          No                  25\n",
              "                       32                 Rural          No                  30\n",
              "                       33                 Rural          No                  34\n",
              "                       34                 Rural          No                  27\n",
              "                       35                 Rural          No                  38\n",
              "         Yes           22                 Rural          No                   1\n",
              "                       24                 Rural          No                   1\n",
              "                       27                 Rural          No                   1\n",
              "                       31                 Rural          No                   1\n",
              "                       33                 Rural          No                   1\n",
              "                       34                 Rural          No                   1\n",
              "Name: bank_account, dtype: int64"
            ]
          },
          "metadata": {
            "tags": []
          },
          "execution_count": 29
        }
      ]
    },
    {
      "cell_type": "code",
      "metadata": {
        "id": "KnoM5PyPFzEr",
        "colab_type": "code",
        "outputId": "f29e03ef-1a6f-463e-c2f6-f207872f6b9b",
        "colab": {
          "base_uri": "https://localhost:8080/",
          "height": 731
        }
      },
      "source": [
        "df_youth = df[(df['age_of_respondent']<= 35)&(df['country'] == 'Rwanda')& (df['location_type'] == 'Urban')& (df['cellphone_access']=='Yes')]\n",
        "df_youth\n",
        "df_youth.groupby(['country','bank_account','age_of_respondent','location_type','cellphone_access'])['bank_account'].count()"
      ],
      "execution_count": 0,
      "outputs": [
        {
          "output_type": "execute_result",
          "data": {
            "text/plain": [
              "country  bank_account  age_of_respondent  location_type  cellphone_access\n",
              "Rwanda   No            16                 Urban          Yes                 33\n",
              "                       17                 Urban          Yes                 34\n",
              "                       18                 Urban          Yes                 47\n",
              "                       19                 Urban          Yes                 38\n",
              "                       20                 Urban          Yes                 20\n",
              "                       21                 Urban          Yes                 18\n",
              "                       22                 Urban          Yes                 26\n",
              "                       23                 Urban          Yes                 16\n",
              "                       24                 Urban          Yes                 16\n",
              "                       25                 Urban          Yes                 30\n",
              "                       26                 Urban          Yes                 25\n",
              "                       27                 Urban          Yes                 26\n",
              "                       28                 Urban          Yes                 21\n",
              "                       29                 Urban          Yes                 16\n",
              "                       30                 Urban          Yes                 33\n",
              "                       31                 Urban          Yes                  9\n",
              "                       32                 Urban          Yes                 28\n",
              "                       33                 Urban          Yes                 24\n",
              "                       34                 Urban          Yes                 17\n",
              "                       35                 Urban          Yes                 39\n",
              "         Yes           16                 Urban          Yes                  1\n",
              "                       17                 Urban          Yes                  2\n",
              "                       18                 Urban          Yes                  4\n",
              "                       19                 Urban          Yes                  2\n",
              "                       20                 Urban          Yes                  3\n",
              "                       21                 Urban          Yes                  9\n",
              "                       22                 Urban          Yes                  4\n",
              "                       23                 Urban          Yes                  4\n",
              "                       24                 Urban          Yes                  6\n",
              "                       25                 Urban          Yes                 17\n",
              "                       26                 Urban          Yes                  9\n",
              "                       27                 Urban          Yes                  6\n",
              "                       28                 Urban          Yes                 11\n",
              "                       29                 Urban          Yes                 18\n",
              "                       30                 Urban          Yes                 20\n",
              "                       31                 Urban          Yes                 11\n",
              "                       32                 Urban          Yes                 16\n",
              "                       33                 Urban          Yes                 16\n",
              "                       34                 Urban          Yes                 12\n",
              "                       35                 Urban          Yes                 27\n",
              "Name: bank_account, dtype: int64"
            ]
          },
          "metadata": {
            "tags": []
          },
          "execution_count": 30
        }
      ]
    },
    {
      "cell_type": "code",
      "metadata": {
        "id": "ggN_dBy4FzYC",
        "colab_type": "code",
        "outputId": "6a3a6d35-ba5a-42f8-cbda-e8e62b5ed7a5",
        "colab": {
          "base_uri": "https://localhost:8080/",
          "height": 323
        }
      },
      "source": [
        "df_youth = df[(df['age_of_respondent']<= 35)&(df['country'] == 'Rwanda')& (df['location_type'] == 'Urban')& (df['cellphone_access']=='No')]\n",
        "df_youth\n",
        "df_youth.groupby(['country','bank_account','age_of_respondent','location_type','cellphone_access'])['bank_account'].count()"
      ],
      "execution_count": 0,
      "outputs": [
        {
          "output_type": "execute_result",
          "data": {
            "text/plain": [
              "country  bank_account  age_of_respondent  location_type  cellphone_access\n",
              "Rwanda   No            16                 Urban          No                  3\n",
              "                       17                 Urban          No                  1\n",
              "                       18                 Urban          No                  2\n",
              "                       19                 Urban          No                  2\n",
              "                       20                 Urban          No                  1\n",
              "                       22                 Urban          No                  2\n",
              "                       26                 Urban          No                  1\n",
              "                       27                 Urban          No                  1\n",
              "                       28                 Urban          No                  2\n",
              "                       30                 Urban          No                  4\n",
              "                       31                 Urban          No                  1\n",
              "                       33                 Urban          No                  3\n",
              "                       34                 Urban          No                  1\n",
              "                       35                 Urban          No                  3\n",
              "         Yes           19                 Urban          No                  1\n",
              "                       20                 Urban          No                  1\n",
              "Name: bank_account, dtype: int64"
            ]
          },
          "metadata": {
            "tags": []
          },
          "execution_count": 31
        }
      ]
    },
    {
      "cell_type": "code",
      "metadata": {
        "id": "YDkM_UNaBvq1",
        "colab_type": "code",
        "outputId": "ee2ccf69-500e-4db7-9cff-9ef00ddec71e",
        "colab": {
          "base_uri": "https://localhost:8080/",
          "height": 646
        }
      },
      "source": [
        "df_youth = df[(df['age_of_respondent']<= 35)&(df['country'] == 'Uganda')&(df['location_type'] == 'Rural')& (df['cellphone_access']=='Yes')]\n",
        "df_youth\n",
        "df_youth.groupby(['country','bank_account','age_of_respondent','location_type','cellphone_access'])['bank_account'].count()"
      ],
      "execution_count": 0,
      "outputs": [
        {
          "output_type": "execute_result",
          "data": {
            "text/plain": [
              "country  bank_account  age_of_respondent  location_type  cellphone_access\n",
              "Uganda   No            16                 Rural          Yes                  6\n",
              "                       17                 Rural          Yes                 10\n",
              "                       18                 Rural          Yes                 26\n",
              "                       19                 Rural          Yes                 33\n",
              "                       20                 Rural          Yes                 38\n",
              "                       21                 Rural          Yes                 30\n",
              "                       22                 Rural          Yes                 26\n",
              "                       23                 Rural          Yes                 34\n",
              "                       24                 Rural          Yes                 30\n",
              "                       25                 Rural          Yes                 35\n",
              "                       26                 Rural          Yes                 21\n",
              "                       27                 Rural          Yes                 21\n",
              "                       28                 Rural          Yes                 39\n",
              "                       29                 Rural          Yes                 30\n",
              "                       30                 Rural          Yes                 45\n",
              "                       31                 Rural          Yes                 16\n",
              "                       32                 Rural          Yes                 35\n",
              "                       33                 Rural          Yes                 25\n",
              "                       34                 Rural          Yes                 15\n",
              "                       35                 Rural          Yes                 25\n",
              "         Yes           20                 Rural          Yes                  2\n",
              "                       21                 Rural          Yes                  2\n",
              "                       23                 Rural          Yes                  1\n",
              "                       24                 Rural          Yes                  2\n",
              "                       25                 Rural          Yes                  2\n",
              "                       26                 Rural          Yes                  1\n",
              "                       27                 Rural          Yes                  2\n",
              "                       28                 Rural          Yes                  2\n",
              "                       29                 Rural          Yes                  2\n",
              "                       30                 Rural          Yes                  4\n",
              "                       31                 Rural          Yes                  1\n",
              "                       32                 Rural          Yes                  2\n",
              "                       33                 Rural          Yes                  3\n",
              "                       34                 Rural          Yes                  2\n",
              "                       35                 Rural          Yes                  2\n",
              "Name: bank_account, dtype: int64"
            ]
          },
          "metadata": {
            "tags": []
          },
          "execution_count": 32
        }
      ]
    },
    {
      "cell_type": "code",
      "metadata": {
        "id": "r2tBzExPGUTd",
        "colab_type": "code",
        "outputId": "c2edbdee-232e-46ec-c151-dfe5e5dc6b06",
        "colab": {
          "base_uri": "https://localhost:8080/",
          "height": 459
        }
      },
      "source": [
        "df_youth = df[(df['age_of_respondent']<= 35)&(df['country'] == 'Uganda')& (df['location_type'] == 'Rural')& (df['cellphone_access']=='No')]\n",
        "df_youth\n",
        "df_youth.groupby(['country','bank_account','age_of_respondent','location_type','cellphone_access'])['bank_account'].count()"
      ],
      "execution_count": 0,
      "outputs": [
        {
          "output_type": "execute_result",
          "data": {
            "text/plain": [
              "country  bank_account  age_of_respondent  location_type  cellphone_access\n",
              "Uganda   No            16                 Rural          No                  20\n",
              "                       17                 Rural          No                  10\n",
              "                       18                 Rural          No                  27\n",
              "                       19                 Rural          No                  15\n",
              "                       20                 Rural          No                  18\n",
              "                       21                 Rural          No                  12\n",
              "                       22                 Rural          No                  16\n",
              "                       23                 Rural          No                  12\n",
              "                       24                 Rural          No                  17\n",
              "                       25                 Rural          No                  21\n",
              "                       26                 Rural          No                   7\n",
              "                       27                 Rural          No                   8\n",
              "                       28                 Rural          No                  20\n",
              "                       29                 Rural          No                   5\n",
              "                       30                 Rural          No                  21\n",
              "                       31                 Rural          No                   7\n",
              "                       32                 Rural          No                  16\n",
              "                       33                 Rural          No                   5\n",
              "                       34                 Rural          No                  11\n",
              "                       35                 Rural          No                  14\n",
              "         Yes           30                 Rural          No                   1\n",
              "                       32                 Rural          No                   1\n",
              "                       34                 Rural          No                   1\n",
              "                       35                 Rural          No                   1\n",
              "Name: bank_account, dtype: int64"
            ]
          },
          "metadata": {
            "tags": []
          },
          "execution_count": 33
        }
      ]
    },
    {
      "cell_type": "code",
      "metadata": {
        "id": "d6r2BW-4GUgr",
        "colab_type": "code",
        "outputId": "215d648a-f868-41e2-9b8b-ecb4d6e6648e",
        "colab": {
          "base_uri": "https://localhost:8080/",
          "height": 714
        }
      },
      "source": [
        "df_youth = df[(df['age_of_respondent']<= 35)&(df['country'] == 'Uganda')& (df['location_type'] == 'Urban')& (df['cellphone_access']=='Yes')]\n",
        "df_youth\n",
        "df_youth.groupby(['country','bank_account','age_of_respondent','location_type','cellphone_access'])['bank_account'].count()"
      ],
      "execution_count": 0,
      "outputs": [
        {
          "output_type": "execute_result",
          "data": {
            "text/plain": [
              "country  bank_account  age_of_respondent  location_type  cellphone_access\n",
              "Uganda   No            16                 Urban          Yes                  8\n",
              "                       17                 Urban          Yes                 10\n",
              "                       18                 Urban          Yes                 12\n",
              "                       19                 Urban          Yes                 18\n",
              "                       20                 Urban          Yes                 27\n",
              "                       21                 Urban          Yes                 16\n",
              "                       22                 Urban          Yes                 13\n",
              "                       23                 Urban          Yes                 23\n",
              "                       24                 Urban          Yes                 17\n",
              "                       25                 Urban          Yes                 25\n",
              "                       26                 Urban          Yes                 19\n",
              "                       27                 Urban          Yes                 10\n",
              "                       28                 Urban          Yes                 12\n",
              "                       29                 Urban          Yes                 10\n",
              "                       30                 Urban          Yes                 18\n",
              "                       31                 Urban          Yes                  7\n",
              "                       32                 Urban          Yes                  9\n",
              "                       33                 Urban          Yes                  8\n",
              "                       34                 Urban          Yes                  6\n",
              "                       35                 Urban          Yes                 11\n",
              "         Yes           17                 Urban          Yes                  1\n",
              "                       18                 Urban          Yes                  1\n",
              "                       19                 Urban          Yes                  2\n",
              "                       20                 Urban          Yes                  3\n",
              "                       21                 Urban          Yes                  3\n",
              "                       22                 Urban          Yes                  2\n",
              "                       23                 Urban          Yes                  5\n",
              "                       24                 Urban          Yes                  5\n",
              "                       25                 Urban          Yes                  9\n",
              "                       26                 Urban          Yes                  7\n",
              "                       27                 Urban          Yes                  6\n",
              "                       28                 Urban          Yes                  5\n",
              "                       29                 Urban          Yes                  4\n",
              "                       30                 Urban          Yes                 10\n",
              "                       31                 Urban          Yes                  4\n",
              "                       32                 Urban          Yes                  3\n",
              "                       33                 Urban          Yes                  2\n",
              "                       34                 Urban          Yes                  1\n",
              "                       35                 Urban          Yes                  4\n",
              "Name: bank_account, dtype: int64"
            ]
          },
          "metadata": {
            "tags": []
          },
          "execution_count": 34
        }
      ]
    },
    {
      "cell_type": "code",
      "metadata": {
        "id": "LrX8NMCcGVbF",
        "colab_type": "code",
        "outputId": "c010bbc1-a47d-4617-f9c9-7dfd8ca36345",
        "colab": {
          "base_uri": "https://localhost:8080/",
          "height": 391
        }
      },
      "source": [
        "df_youth = df[(df['age_of_respondent']<= 35)&(df['country'] == 'Uganda')& (df['location_type'] == 'Urban')& (df['cellphone_access']=='No')]\n",
        "df_youth\n",
        "df_youth.groupby(['country','bank_account','age_of_respondent','location_type','cellphone_access'])['bank_account'].count()"
      ],
      "execution_count": 0,
      "outputs": [
        {
          "output_type": "execute_result",
          "data": {
            "text/plain": [
              "country  bank_account  age_of_respondent  location_type  cellphone_access\n",
              "Uganda   No            16                 Urban          No                  9\n",
              "                       17                 Urban          No                  1\n",
              "                       18                 Urban          No                  6\n",
              "                       19                 Urban          No                  2\n",
              "                       20                 Urban          No                  4\n",
              "                       21                 Urban          No                  3\n",
              "                       22                 Urban          No                  4\n",
              "                       23                 Urban          No                  3\n",
              "                       24                 Urban          No                  3\n",
              "                       25                 Urban          No                  7\n",
              "                       26                 Urban          No                  3\n",
              "                       27                 Urban          No                  1\n",
              "                       28                 Urban          No                  3\n",
              "                       29                 Urban          No                  1\n",
              "                       30                 Urban          No                  2\n",
              "                       32                 Urban          No                  2\n",
              "                       33                 Urban          No                  2\n",
              "         Yes           18                 Urban          No                  2\n",
              "                       22                 Urban          No                  1\n",
              "                       27                 Urban          No                  1\n",
              "Name: bank_account, dtype: int64"
            ]
          },
          "metadata": {
            "tags": []
          },
          "execution_count": 35
        }
      ]
    },
    {
      "cell_type": "code",
      "metadata": {
        "id": "ck9WDPwuBv3A",
        "colab_type": "code",
        "outputId": "3957ad2c-b510-4c62-f0a8-c9ae01cf0032",
        "colab": {
          "base_uri": "https://localhost:8080/",
          "height": 714
        }
      },
      "source": [
        "df_youth = df[(df['age_of_respondent']<= 35)&(df['country'] == 'Tanzania')&(df['location_type'] == 'Rural')& (df['cellphone_access']=='Yes')]\n",
        "df_youth\n",
        "df_youth.groupby(['country','bank_account','age_of_respondent','location_type','cellphone_access'])['bank_account'].count()"
      ],
      "execution_count": 0,
      "outputs": [
        {
          "output_type": "execute_result",
          "data": {
            "text/plain": [
              "country   bank_account  age_of_respondent  location_type  cellphone_access\n",
              "Tanzania  No            16                 Rural          Yes                  5\n",
              "                        17                 Rural          Yes                 15\n",
              "                        18                 Rural          Yes                 27\n",
              "                        19                 Rural          Yes                 29\n",
              "                        20                 Rural          Yes                 42\n",
              "                        21                 Rural          Yes                 36\n",
              "                        22                 Rural          Yes                 44\n",
              "                        23                 Rural          Yes                 53\n",
              "                        24                 Rural          Yes                 37\n",
              "                        25                 Rural          Yes                 45\n",
              "                        26                 Rural          Yes                 38\n",
              "                        27                 Rural          Yes                 44\n",
              "                        28                 Rural          Yes                 40\n",
              "                        29                 Rural          Yes                 28\n",
              "                        30                 Rural          Yes                 48\n",
              "                        31                 Rural          Yes                 21\n",
              "                        32                 Rural          Yes                 36\n",
              "                        33                 Rural          Yes                 29\n",
              "                        34                 Rural          Yes                 27\n",
              "                        35                 Rural          Yes                 33\n",
              "          Yes           17                 Rural          Yes                  1\n",
              "                        18                 Rural          Yes                  2\n",
              "                        19                 Rural          Yes                  3\n",
              "                        20                 Rural          Yes                  4\n",
              "                        21                 Rural          Yes                  5\n",
              "                        22                 Rural          Yes                 13\n",
              "                        23                 Rural          Yes                  8\n",
              "                        24                 Rural          Yes                  9\n",
              "                        25                 Rural          Yes                 13\n",
              "                        26                 Rural          Yes                 12\n",
              "                        27                 Rural          Yes                 14\n",
              "                        28                 Rural          Yes                 19\n",
              "                        29                 Rural          Yes                 11\n",
              "                        30                 Rural          Yes                 28\n",
              "                        31                 Rural          Yes                  7\n",
              "                        32                 Rural          Yes                 18\n",
              "                        33                 Rural          Yes                  7\n",
              "                        34                 Rural          Yes                 13\n",
              "                        35                 Rural          Yes                 12\n",
              "Name: bank_account, dtype: int64"
            ]
          },
          "metadata": {
            "tags": []
          },
          "execution_count": 36
        }
      ]
    },
    {
      "cell_type": "code",
      "metadata": {
        "id": "hpsw1CI6G6rY",
        "colab_type": "code",
        "outputId": "2e7d4532-b55d-4d2a-ccc9-c6e9e4225ad1",
        "colab": {
          "base_uri": "https://localhost:8080/",
          "height": 442
        }
      },
      "source": [
        "df_youth = df[(df['age_of_respondent']<= 35)&(df['country'] == 'Tanzania')& (df['location_type'] == 'Rural')& (df['cellphone_access']=='No')]\n",
        "df_youth\n",
        "df_youth.groupby(['country','bank_account','age_of_respondent','location_type','cellphone_access'])['bank_account'].count()"
      ],
      "execution_count": 0,
      "outputs": [
        {
          "output_type": "execute_result",
          "data": {
            "text/plain": [
              "country   bank_account  age_of_respondent  location_type  cellphone_access\n",
              "Tanzania  No            16                 Rural          No                  34\n",
              "                        17                 Rural          No                  19\n",
              "                        18                 Rural          No                  21\n",
              "                        19                 Rural          No                  15\n",
              "                        20                 Rural          No                  11\n",
              "                        21                 Rural          No                   2\n",
              "                        22                 Rural          No                  10\n",
              "                        23                 Rural          No                  17\n",
              "                        24                 Rural          No                  11\n",
              "                        25                 Rural          No                  10\n",
              "                        26                 Rural          No                  10\n",
              "                        27                 Rural          No                   9\n",
              "                        28                 Rural          No                  10\n",
              "                        29                 Rural          No                   7\n",
              "                        30                 Rural          No                  10\n",
              "                        31                 Rural          No                   1\n",
              "                        32                 Rural          No                  14\n",
              "                        33                 Rural          No                   4\n",
              "                        34                 Rural          No                   7\n",
              "                        35                 Rural          No                  14\n",
              "          Yes           26                 Rural          No                   1\n",
              "                        33                 Rural          No                   1\n",
              "                        35                 Rural          No                   1\n",
              "Name: bank_account, dtype: int64"
            ]
          },
          "metadata": {
            "tags": []
          },
          "execution_count": 37
        }
      ]
    },
    {
      "cell_type": "code",
      "metadata": {
        "id": "hw2RJo9SG7Eg",
        "colab_type": "code",
        "outputId": "93f567e2-ce74-4946-81c5-2137e5c49235",
        "colab": {
          "base_uri": "https://localhost:8080/",
          "height": 646
        }
      },
      "source": [
        "df_youth = df[(df['age_of_respondent']<= 35)&(df['country'] == 'Tanzania')& (df['location_type'] == 'Urban')& (df['cellphone_access']=='Yes')]\n",
        "df_youth\n",
        "df_youth.groupby(['country','bank_account','age_of_respondent','location_type','cellphone_access'])['bank_account'].count()"
      ],
      "execution_count": 0,
      "outputs": [
        {
          "output_type": "execute_result",
          "data": {
            "text/plain": [
              "country   bank_account  age_of_respondent  location_type  cellphone_access\n",
              "Tanzania  No            16                 Urban          Yes                  10\n",
              "                        17                 Urban          Yes                  26\n",
              "                        18                 Urban          Yes                  43\n",
              "                        19                 Urban          Yes                  32\n",
              "                        20                 Urban          Yes                  60\n",
              "                        21                 Urban          Yes                  36\n",
              "                        22                 Urban          Yes                  59\n",
              "                        23                 Urban          Yes                  53\n",
              "                        24                 Urban          Yes                  68\n",
              "                        25                 Urban          Yes                  91\n",
              "                        26                 Urban          Yes                  56\n",
              "                        27                 Urban          Yes                  59\n",
              "                        28                 Urban          Yes                  73\n",
              "                        29                 Urban          Yes                  51\n",
              "                        30                 Urban          Yes                 100\n",
              "                        31                 Urban          Yes                  48\n",
              "                        32                 Urban          Yes                  75\n",
              "                        33                 Urban          Yes                  47\n",
              "                        34                 Urban          Yes                  51\n",
              "                        35                 Urban          Yes                  95\n",
              "          Yes           20                 Urban          Yes                   2\n",
              "                        22                 Urban          Yes                   1\n",
              "                        23                 Urban          Yes                   4\n",
              "                        24                 Urban          Yes                   4\n",
              "                        25                 Urban          Yes                   9\n",
              "                        26                 Urban          Yes                  14\n",
              "                        27                 Urban          Yes                  11\n",
              "                        28                 Urban          Yes                   4\n",
              "                        29                 Urban          Yes                  11\n",
              "                        30                 Urban          Yes                  13\n",
              "                        31                 Urban          Yes                   3\n",
              "                        32                 Urban          Yes                   3\n",
              "                        33                 Urban          Yes                   4\n",
              "                        34                 Urban          Yes                   6\n",
              "                        35                 Urban          Yes                   6\n",
              "Name: bank_account, dtype: int64"
            ]
          },
          "metadata": {
            "tags": []
          },
          "execution_count": 38
        }
      ]
    },
    {
      "cell_type": "code",
      "metadata": {
        "id": "rDWKnT2bG7TU",
        "colab_type": "code",
        "outputId": "4b847f49-675f-436e-bd7d-f1ece3900428",
        "colab": {
          "base_uri": "https://localhost:8080/",
          "height": 442
        }
      },
      "source": [
        "df_youth = df[(df['age_of_respondent']<= 35)&(df['country'] == 'Tanzania')& (df['location_type'] == 'Urban')& (df['cellphone_access']=='No')]\n",
        "df_youth\n",
        "df_youth.groupby(['country','bank_account','age_of_respondent','location_type','cellphone_access'])['bank_account'].count()"
      ],
      "execution_count": 0,
      "outputs": [
        {
          "output_type": "execute_result",
          "data": {
            "text/plain": [
              "country   bank_account  age_of_respondent  location_type  cellphone_access\n",
              "Tanzania  No            16                 Urban          No                   65\n",
              "                        17                 Urban          No                   65\n",
              "                        18                 Urban          No                   57\n",
              "                        19                 Urban          No                   49\n",
              "                        20                 Urban          No                   72\n",
              "                        21                 Urban          No                   51\n",
              "                        22                 Urban          No                   83\n",
              "                        23                 Urban          No                   48\n",
              "                        24                 Urban          No                   45\n",
              "                        25                 Urban          No                   70\n",
              "                        26                 Urban          No                   38\n",
              "                        27                 Urban          No                   48\n",
              "                        28                 Urban          No                   63\n",
              "                        29                 Urban          No                   37\n",
              "                        30                 Urban          No                  105\n",
              "                        31                 Urban          No                   32\n",
              "                        32                 Urban          No                   58\n",
              "                        33                 Urban          No                   31\n",
              "                        34                 Urban          No                   37\n",
              "                        35                 Urban          No                   68\n",
              "          Yes           26                 Urban          No                    2\n",
              "                        29                 Urban          No                    1\n",
              "                        32                 Urban          No                    1\n",
              "Name: bank_account, dtype: int64"
            ]
          },
          "metadata": {
            "tags": []
          },
          "execution_count": 39
        }
      ]
    },
    {
      "cell_type": "code",
      "metadata": {
        "id": "dDCfMSjT9lya",
        "colab_type": "code",
        "outputId": "4606d104-c935-4291-d54f-61ea82e69a5d",
        "colab": {
          "base_uri": "https://localhost:8080/",
          "height": 986
        }
      },
      "source": [
        "df_middle = df[(df['age_of_respondent'] >= 35)&(df['age_of_respondent'] <= 55)&(df['country'] == 'Kenya')&(df['location_type'] == 'Rural')]\n",
        "df_middle\n",
        "df_middle.groupby(['country','bank_account','age_of_respondent','location_type','cellphone_access'])['bank_account'].count().head(55)"
      ],
      "execution_count": 0,
      "outputs": [
        {
          "output_type": "execute_result",
          "data": {
            "text/plain": [
              "country  bank_account  age_of_respondent  location_type  cellphone_access\n",
              "Kenya    No            35                 Rural          No                  21\n",
              "                                                         Yes                 79\n",
              "                       36                 Rural          No                   5\n",
              "                                                         Yes                 40\n",
              "                       37                 Rural          No                   4\n",
              "                                                         Yes                 23\n",
              "                       38                 Rural          No                  12\n",
              "                                                         Yes                 56\n",
              "                       39                 Rural          No                   3\n",
              "                                                         Yes                 33\n",
              "                       40                 Rural          No                  17\n",
              "                                                         Yes                 72\n",
              "                       41                 Rural          No                   1\n",
              "                                                         Yes                 21\n",
              "                       42                 Rural          No                  10\n",
              "                                                         Yes                 45\n",
              "                       43                 Rural          No                   5\n",
              "                                                         Yes                 37\n",
              "                       44                 Rural          No                   9\n",
              "                                                         Yes                 22\n",
              "                       45                 Rural          No                  17\n",
              "                                                         Yes                 55\n",
              "                       46                 Rural          No                   5\n",
              "                                                         Yes                 36\n",
              "                       47                 Rural          No                   1\n",
              "                                                         Yes                 19\n",
              "                       48                 Rural          No                   7\n",
              "                                                         Yes                 36\n",
              "                       49                 Rural          No                   3\n",
              "                                                         Yes                 26\n",
              "                       50                 Rural          No                  22\n",
              "                                                         Yes                 54\n",
              "                       51                 Rural          No                   4\n",
              "                                                         Yes                 13\n",
              "                       52                 Rural          No                  14\n",
              "                                                         Yes                 31\n",
              "                       53                 Rural          No                   3\n",
              "                                                         Yes                 23\n",
              "                       54                 Rural          No                   1\n",
              "                                                         Yes                 30\n",
              "                       55                 Rural          No                  14\n",
              "                                                         Yes                 31\n",
              "         Yes           35                 Rural          Yes                 30\n",
              "                       36                 Rural          Yes                 17\n",
              "                       37                 Rural          Yes                 12\n",
              "                       38                 Rural          Yes                 11\n",
              "                       39                 Rural          Yes                  7\n",
              "                       40                 Rural          Yes                 30\n",
              "                       41                 Rural          Yes                 10\n",
              "                       42                 Rural          No                   1\n",
              "                                                         Yes                 22\n",
              "                       43                 Rural          Yes                  7\n",
              "                       44                 Rural          No                   1\n",
              "                                                         Yes                  5\n",
              "                       45                 Rural          No                   1\n",
              "Name: bank_account, dtype: int64"
            ]
          },
          "metadata": {
            "tags": []
          },
          "execution_count": 40
        }
      ]
    },
    {
      "cell_type": "code",
      "metadata": {
        "id": "HHWuJN7gCUuF",
        "colab_type": "code",
        "outputId": "a490c4b6-5181-45ba-f865-553ce7117589",
        "colab": {
          "base_uri": "https://localhost:8080/",
          "height": 986
        }
      },
      "source": [
        "df_middle = df[(df['age_of_respondent'] >= 35)&(df['age_of_respondent'] <= 55)&(df['country'] == 'Kenya')&(df['location_type'] == 'Rural')]\n",
        "df_middle\n",
        "df_middle.groupby(['country','bank_account','age_of_respondent','location_type','cellphone_access'])['bank_account'].count().head(55)"
      ],
      "execution_count": 0,
      "outputs": [
        {
          "output_type": "execute_result",
          "data": {
            "text/plain": [
              "country  bank_account  age_of_respondent  location_type  cellphone_access\n",
              "Kenya    No            35                 Rural          No                  21\n",
              "                                                         Yes                 79\n",
              "                       36                 Rural          No                   5\n",
              "                                                         Yes                 40\n",
              "                       37                 Rural          No                   4\n",
              "                                                         Yes                 23\n",
              "                       38                 Rural          No                  12\n",
              "                                                         Yes                 56\n",
              "                       39                 Rural          No                   3\n",
              "                                                         Yes                 33\n",
              "                       40                 Rural          No                  17\n",
              "                                                         Yes                 72\n",
              "                       41                 Rural          No                   1\n",
              "                                                         Yes                 21\n",
              "                       42                 Rural          No                  10\n",
              "                                                         Yes                 45\n",
              "                       43                 Rural          No                   5\n",
              "                                                         Yes                 37\n",
              "                       44                 Rural          No                   9\n",
              "                                                         Yes                 22\n",
              "                       45                 Rural          No                  17\n",
              "                                                         Yes                 55\n",
              "                       46                 Rural          No                   5\n",
              "                                                         Yes                 36\n",
              "                       47                 Rural          No                   1\n",
              "                                                         Yes                 19\n",
              "                       48                 Rural          No                   7\n",
              "                                                         Yes                 36\n",
              "                       49                 Rural          No                   3\n",
              "                                                         Yes                 26\n",
              "                       50                 Rural          No                  22\n",
              "                                                         Yes                 54\n",
              "                       51                 Rural          No                   4\n",
              "                                                         Yes                 13\n",
              "                       52                 Rural          No                  14\n",
              "                                                         Yes                 31\n",
              "                       53                 Rural          No                   3\n",
              "                                                         Yes                 23\n",
              "                       54                 Rural          No                   1\n",
              "                                                         Yes                 30\n",
              "                       55                 Rural          No                  14\n",
              "                                                         Yes                 31\n",
              "         Yes           35                 Rural          Yes                 30\n",
              "                       36                 Rural          Yes                 17\n",
              "                       37                 Rural          Yes                 12\n",
              "                       38                 Rural          Yes                 11\n",
              "                       39                 Rural          Yes                  7\n",
              "                       40                 Rural          Yes                 30\n",
              "                       41                 Rural          Yes                 10\n",
              "                       42                 Rural          No                   1\n",
              "                                                         Yes                 22\n",
              "                       43                 Rural          Yes                  7\n",
              "                       44                 Rural          No                   1\n",
              "                                                         Yes                  5\n",
              "                       45                 Rural          No                   1\n",
              "Name: bank_account, dtype: int64"
            ]
          },
          "metadata": {
            "tags": []
          },
          "execution_count": 41
        }
      ]
    },
    {
      "cell_type": "code",
      "metadata": {
        "id": "_I1SDnbHIDdS",
        "colab_type": "code",
        "colab": {}
      },
      "source": [
        ""
      ],
      "execution_count": 0,
      "outputs": []
    }
  ]
}